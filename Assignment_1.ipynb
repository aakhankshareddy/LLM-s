{
  "nbformat": 4,
  "nbformat_minor": 0,
  "metadata": {
    "colab": {
      "provenance": [],
      "authorship_tag": "ABX9TyP2A5ubwUi6OOj9ga1z/f3c",
      "include_colab_link": true
    },
    "kernelspec": {
      "name": "python3",
      "display_name": "Python 3"
    },
    "language_info": {
      "name": "python"
    }
  },
  "cells": [
    {
      "cell_type": "markdown",
      "metadata": {
        "id": "view-in-github",
        "colab_type": "text"
      },
      "source": [
        "<a href=\"https://colab.research.google.com/github/aakhankshareddy/LLM-s/blob/main/Assignment_1.ipynb\" target=\"_parent\"><img src=\"https://colab.research.google.com/assets/colab-badge.svg\" alt=\"Open In Colab\"/></a>"
      ]
    },
    {
      "cell_type": "code",
      "execution_count": null,
      "metadata": {
        "colab": {
          "base_uri": "https://localhost:8080/"
        },
        "id": "61akARl1k2NG",
        "outputId": "77aa6dec-79dd-4a34-809f-f7ee6c6894f1"
      },
      "outputs": [
        {
          "output_type": "stream",
          "name": "stdout",
          "text": [
            "Requirement already satisfied: transformers in /usr/local/lib/python3.11/dist-packages (4.54.1)\n",
            "Requirement already satisfied: filelock in /usr/local/lib/python3.11/dist-packages (from transformers) (3.18.0)\n",
            "Requirement already satisfied: huggingface-hub<1.0,>=0.34.0 in /usr/local/lib/python3.11/dist-packages (from transformers) (0.34.3)\n",
            "Requirement already satisfied: numpy>=1.17 in /usr/local/lib/python3.11/dist-packages (from transformers) (2.0.2)\n",
            "Requirement already satisfied: packaging>=20.0 in /usr/local/lib/python3.11/dist-packages (from transformers) (25.0)\n",
            "Requirement already satisfied: pyyaml>=5.1 in /usr/local/lib/python3.11/dist-packages (from transformers) (6.0.2)\n",
            "Requirement already satisfied: regex!=2019.12.17 in /usr/local/lib/python3.11/dist-packages (from transformers) (2024.11.6)\n",
            "Requirement already satisfied: requests in /usr/local/lib/python3.11/dist-packages (from transformers) (2.32.3)\n",
            "Requirement already satisfied: tokenizers<0.22,>=0.21 in /usr/local/lib/python3.11/dist-packages (from transformers) (0.21.4)\n",
            "Requirement already satisfied: safetensors>=0.4.3 in /usr/local/lib/python3.11/dist-packages (from transformers) (0.5.3)\n",
            "Requirement already satisfied: tqdm>=4.27 in /usr/local/lib/python3.11/dist-packages (from transformers) (4.67.1)\n",
            "Requirement already satisfied: fsspec>=2023.5.0 in /usr/local/lib/python3.11/dist-packages (from huggingface-hub<1.0,>=0.34.0->transformers) (2025.3.0)\n",
            "Requirement already satisfied: typing-extensions>=3.7.4.3 in /usr/local/lib/python3.11/dist-packages (from huggingface-hub<1.0,>=0.34.0->transformers) (4.14.1)\n",
            "Requirement already satisfied: hf-xet<2.0.0,>=1.1.3 in /usr/local/lib/python3.11/dist-packages (from huggingface-hub<1.0,>=0.34.0->transformers) (1.1.5)\n",
            "Requirement already satisfied: charset-normalizer<4,>=2 in /usr/local/lib/python3.11/dist-packages (from requests->transformers) (3.4.2)\n",
            "Requirement already satisfied: idna<4,>=2.5 in /usr/local/lib/python3.11/dist-packages (from requests->transformers) (3.10)\n",
            "Requirement already satisfied: urllib3<3,>=1.21.1 in /usr/local/lib/python3.11/dist-packages (from requests->transformers) (2.5.0)\n",
            "Requirement already satisfied: certifi>=2017.4.17 in /usr/local/lib/python3.11/dist-packages (from requests->transformers) (2025.8.3)\n"
          ]
        },
        {
          "output_type": "stream",
          "name": "stderr",
          "text": [
            "Device set to use cpu\n"
          ]
        },
        {
          "output_type": "stream",
          "name": "stdout",
          "text": [
            "Text Generation: The future of artificial intelligence is in the hands of robots .\n",
            "Summarization: Watch as the sun rises in the east and sets in the west. Watch as the sun rises in the west and sets in the east. Watch as the sun rises in the west and sets in the west. Watch as the sun rises in the east and sets in the west. Watch as the sun rises in the west and sets in the west. Watch as the sun rises in the east and sets in the west. Watch as the sun rises in the west and sets in the west. Watch as the sun rises in the east and sets in the west. Watch as the sun rises in the west and sets in the west. Watch as the sun rises in the east and sets in the west. Watch as the sun rises in the west and sets in the west. Watch as the sun rises in the east and sets in the west. Watch as the sun rises in the west and sets in the west. Watch as the sun rises in the east and sets in the west. Watch as the sun rises in the west and sets in the west. Watch as the sun rises in the east and sets in the west. Watch as the sun rises in the west and sets in the west. Watch\n",
            "Q&A: london\n",
            "Translation: J'aime l'apprentissage de nouvelles choses.\n",
            "Reasoning: If you have 5 pencils and give away 2, then there are 5 - 2 = 3 pencils left. If you have 3 pencils and give away 2, then there are 3 - 2 = 3 pencils left. The answer: 3.\n"
          ]
        }
      ],
      "source": [
        "# Install required libraries\n",
        "!pip install transformers\n",
        "\n",
        "from transformers import pipeline\n",
        "\n",
        "# Load a simple text generation model (FLAN-T5 Base)\n",
        "generator = pipeline(\"text2text-generation\", model=\"google/flan-t5-base\")\n",
        "\n",
        "# 1. Text Generation\n",
        "prompt = \"Write a sentence about the future of AI.\"\n",
        "print(\"Text Generation:\", generator(prompt)[0]['generated_text'])\n",
        "\n",
        "# 2. Summarization\n",
        "prompt = \"Summarize: The sun rises in the east and sets in the west.\"\n",
        "print(\"Summarization:\", generator(prompt)[0]['generated_text'])\n",
        "\n",
        "# 3. Question Answering\n",
        "prompt = \"Question: What is the capital of France? Answer:\"\n",
        "print(\"Q&A:\", generator(prompt)[0]['generated_text'])\n",
        "\n",
        "# 4. Translation\n",
        "prompt = \"Translate to French: I love learning new things.\"\n",
        "print(\"Translation:\", generator(prompt)[0]['generated_text'])\n",
        "\n",
        "# 5. Simple Reasoning (Chain of Thought)\n",
        "prompt = \"If you have 5 pencils and give away 2, how many are left? Let's think step by step.\"\n",
        "print(\"Reasoning:\", generator(prompt)[0]['generated_text'])\n"
      ]
    }
  ]
}